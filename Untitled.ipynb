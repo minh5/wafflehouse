{
 "cells": [
  {
   "cell_type": "code",
   "execution_count": 6,
   "metadata": {
    "collapsed": true
   },
   "outputs": [],
   "source": [
    "from lxml import html\n",
    "import requests"
   ]
  },
  {
   "cell_type": "raw",
   "metadata": {},
   "source": [
    "page = requests.get('http://www.menuism.com/restaurant-locations/waffle-house-78955/us/al')\n",
    "tree = html.fromstring(page.text)"
   ]
  },
  {
   "cell_type": "code",
   "execution_count": 4,
   "metadata": {
    "collapsed": false
   },
   "outputs": [],
   "source": [
    "address = tree.xpath('//em/text()')"
   ]
  },
  {
   "cell_type": "code",
   "execution_count": 5,
   "metadata": {
    "collapsed": false
   },
   "outputs": [
    {
     "data": {
      "text/plain": [
       "['1201 S Quintard Ave',\n",
       " '1530 Quintard Ave',\n",
       " '802 Cleveland Ave',\n",
       " '961 Gilbert Ferry Rd Se',\n",
       " '110 W Glenn Ave',\n",
       " '2346 Bent Creek Rd',\n",
       " '1738 Opelika Rd',\n",
       " '2167 S College St',\n",
       " '3998 Methodist Cir',\n",
       " '5010 Academy Ln',\n",
       " '800 11th St S',\n",
       " '9227 Parkway E',\n",
       " '185 Oxmoor Rd',\n",
       " '1833 Crestwood Boulevard',\n",
       " '1833 Crestwood Blvd',\n",
       " '3023 Columbiana Rd',\n",
       " '1535 Montgomery Hwy',\n",
       " '1324 Pinson Valley Pkwy',\n",
       " '800 11th St',\n",
       " '800 11th Street',\n",
       " '1440 Gadsden Hwy',\n",
       " '5419 Hwy 280',\n",
       " '1985 Old Montgomery Highway',\n",
       " '1985 Montgomery Hwy S',\n",
       " 'County Road 437',\n",
       " '1900 Commerce Ave',\n",
       " '29100 Us Hwy 98',\n",
       " '6781 US Highway 90',\n",
       " '2202 6th Ave Se',\n",
       " '710 6th Ave NE',\n",
       " '2442 S Oates St',\n",
       " '2849 Ross Clark Cir',\n",
       " '1925 E Main St',\n",
       " '2325 Reeves St',\n",
       " '3591 Ross Clark Cir',\n",
       " '4077 W Main St',\n",
       " '2971 Ross Clark Cir',\n",
       " '373 S Greeno Rd',\n",
       " '373 Greeno Road South',\n",
       " '2660 S Mckenzie St',\n",
       " '12615 Foley Beach Expy',\n",
       " '2650 S Mckenzie St',\n",
       " '1000 Rainbow Dr',\n",
       " '102 E Meighan Blvd',\n",
       " '75 E Meighan Blvd',\n",
       " '2053 Gunter Ave',\n",
       " '2312 Miller St',\n",
       " '3613 Memorial Pkwy SW',\n",
       " '7106 Bailey Creek Cir SE',\n",
       " '36 Shields Rd',\n",
       " '3818 University Dr Nw',\n",
       " '4896 University Dr Nw',\n",
       " '3995 University Dr NW',\n",
       " '1754 Dauphin Island Pkwy',\n",
       " '3262 Dauphin St',\n",
       " '5610 Old Shell Rd',\n",
       " '3428 Spring Hill Ave',\n",
       " '3651 Airport Blvd',\n",
       " '5011 Cottage Hill Rd',\n",
       " '5398 Highway 90 W',\n",
       " '5448 Highway 90 W',\n",
       " '3671 Government Blvd',\n",
       " '560 Schillinger Rd S',\n",
       " '2423 Schillinger Rd S',\n",
       " '1269 Hillcrest Rd',\n",
       " '985 W South Blvd',\n",
       " '160 Folmar Pkwy',\n",
       " '90 Folmar Pkwy',\n",
       " '5180 Carmichael Rd',\n",
       " '2627 Zelda Rd',\n",
       " '2615 Zelda Road',\n",
       " '2635 Cong W L Dickinson Dr',\n",
       " '4117 Troy Hwy',\n",
       " '1157 Eastern Boulevard',\n",
       " '9225 Boyd-cooper Pkwy',\n",
       " '1185 Eastern Blvd',\n",
       " 'Interstate Dr',\n",
       " '907 Fox Run Pkwy',\n",
       " '545 South Quintard Avenue',\n",
       " '65 Jimmy Hinton Dr',\n",
       " '545 Quintard Dr',\n",
       " '970 S Us Highway 231',\n",
       " 'Hwy 231 S',\n",
       " '2965 Pelham Pkwy',\n",
       " '1020 Oak Mountain Park Rd',\n",
       " '1141 280 Byp',\n",
       " '3707 Summerville Rd',\n",
       " '3898 Us Highway 80 W',\n",
       " '2597 Cobbs Ford Rd',\n",
       " '791 Business Park Dr',\n",
       " '824 E Main St',\n",
       " '1204 Industrial Pky',\n",
       " '811 Saraland Blvd S',\n",
       " '5579 Highway 90',\n",
       " '7031 Theodore Dawes Rd',\n",
       " '1208 Hwy 231 S',\n",
       " '103 Hwy 231 N',\n",
       " '3421 Mcfarland Blvd E',\n",
       " '5037 Oscar Baxter Dr',\n",
       " '5001 Skyland Blvd E',\n",
       " '2800 20th Ave',\n",
       " '580 Fob James Dr']"
      ]
     },
     "execution_count": 5,
     "metadata": {},
     "output_type": "execute_result"
    }
   ],
   "source": [
    "from scrapy.item import Item, Field\n",
    "\n",
    "class TorrentItem(Item):\n",
    "    url = Field()\n",
    "    address = Field()\n",
    "    city = Field()\n",
    "    zip = Field()"
   ]
  }
 ],
 "metadata": {
  "kernelspec": {
   "display_name": "Python 2",
   "language": "python",
   "name": "python2"
  },
  "language_info": {
   "codemirror_mode": {
    "name": "ipython",
    "version": 2
   },
   "file_extension": ".py",
   "mimetype": "text/x-python",
   "name": "python",
   "nbconvert_exporter": "python",
   "pygments_lexer": "ipython2",
   "version": "2.7.9"
  }
 },
 "nbformat": 4,
 "nbformat_minor": 0
}

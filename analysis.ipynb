{
 "cells": [
  {
   "cell_type": "markdown",
   "metadata": {},
   "source": [
    "## Summary\n",
    "\n",
    "Now that I have tabulated all the Waffle Houses (WH) in the United States by county level, what's next to to find the correlation between the number of WH and poverty levels. "
   ]
  },
  {
   "cell_type": "markdown",
   "metadata": {},
   "source": [
    "## Analysis \n",
    "\n",
    "### Preprocessing\n",
    "\n",
    "After loading up the data and libraries, I subsetted the dataset to include only to those counties with Waffle Houses because the high number of counties without Waffle Houses will skew our analysis, shown below."
   ]
  },
  {
   "cell_type": "code",
   "execution_count": 12,
   "metadata": {
    "collapsed": false
   },
   "outputs": [],
   "source": [
    "%matplotlib inline\n",
    "\n",
    "import pandas as pd\n",
    "import matplotlib.pyplot as plt\n",
    "import statsmodels.formula.api as sm\n",
    "\n",
    "allWaffles = pd.read_csv('/home/optimus/wafflehouse/maps/wafflesMap.csv')\n",
    "data = allWaffles.loc[allWaffles['waffles'] >0,:]"
   ]
  },
  {
   "cell_type": "code",
   "execution_count": 39,
   "metadata": {
    "collapsed": false,
    "scrolled": true
   },
   "outputs": [
    {
     "data": {
      "text/plain": [
       "0     2725\n",
       "1      195\n",
       "2      125\n",
       "3       48\n",
       "4       27\n",
       "5       23\n",
       "7       17\n",
       "6       14\n",
       "8       10\n",
       "11       7\n",
       "9        7\n",
       "10       5\n",
       "14       5\n",
       "16       4\n",
       "13       4\n",
       "12       4\n",
       "19       2\n",
       "27       1\n",
       "41       1\n",
       "36       1\n",
       "18       1\n",
       "20       1\n",
       "25       1\n",
       "29       1\n",
       "45       1\n",
       "15       1\n",
       "17       1\n",
       "59       1\n",
       "dtype: int64"
      ]
     },
     "execution_count": 39,
     "metadata": {},
     "output_type": "execute_result"
    }
   ],
   "source": [
    "allWaffles['waffles'].value_counts()"
   ]
  },
  {
   "cell_type": "markdown",
   "metadata": {},
   "source": [
    "### Pearson's Correlation\n",
    "Then I used the standard **Pearson's correlation**, a common technique to examine correlation. A correlation score of 1 mean that the two variables are perfectly correlated (meaning as one goes up, the other does too), while a -1 will dictate that the relationship is a perfect negative one (meaning as if one of the variables goes down, the other does too)."
   ]
  },
  {
   "cell_type": "code",
   "execution_count": 18,
   "metadata": {
    "collapsed": false
   },
   "outputs": [
    {
     "data": {
      "text/plain": [
       "0.10892584397243053"
      ]
     },
     "execution_count": 18,
     "metadata": {},
     "output_type": "execute_result"
    }
   ],
   "source": [
    "#Correlation of Waffle Houses and state-wide poverty levels\n",
    "data['waffles'].corr(data['statesPov'])"
   ]
  },
  {
   "cell_type": "code",
   "execution_count": 19,
   "metadata": {
    "collapsed": false
   },
   "outputs": [
    {
     "data": {
      "text/plain": [
       "-0.024375318969939667"
      ]
     },
     "execution_count": 19,
     "metadata": {},
     "output_type": "execute_result"
    }
   ],
   "source": [
    "#Correlation of Waffle Houses and county-wide poverty levels\n",
    "data['waffles'].corr(data['countyPov'])"
   ]
  },
  {
   "cell_type": "markdown",
   "metadata": {},
   "source": [
    "This step is a bit different. I take the difference between the county and statewide levels. This is to control for effects of a state-wide poverty rate. For instance, if the statewide poverty rate is 30% and a county is 20%, then we can compare it to counties with a poverty rate of 6% in a state with 16% poverty rate. The point of this is to answer, **is the number of Waffle Houses correlated to the difference in the poverty rate in a county when compared to the state-wide average?**"
   ]
  },
  {
   "cell_type": "code",
   "execution_count": 20,
   "metadata": {
    "collapsed": false
   },
   "outputs": [
    {
     "data": {
      "text/plain": [
       "-0.076094067684320685"
      ]
     },
     "execution_count": 20,
     "metadata": {},
     "output_type": "execute_result"
    }
   ],
   "source": [
    "data['waffles'].corr(data['diff'])"
   ]
  },
  {
   "cell_type": "markdown",
   "metadata": {},
   "source": [
    "Oddly enough, the results were not what I expected. For instance, I thought that the higher number of Waffle Houses would mean the area would be correlated with higher poverty rates because 1) Waffle House provides cheaper food options than regular restaurants and 2) Waffle House has a certain connotation being associated with people living in poverty, and 3) I grew up poor and on Waffle House.\n",
    "\n",
    "But from our analysis, the picture is a bit different. States with more Waffle Houses in their counties have higher poverty levels. However, the more Waffle Houses a county has, the **lower** their poverty rates (although very slight) are with a Pearson's score of -.02. Likewise, the more Waffle Houses there are, the poverty rates differences between the county and state level is smaller. That said we can expect slightly less poverty rates in counties with more Waffle Houses compared to their State."
   ]
  },
  {
   "cell_type": "markdown",
   "metadata": {},
   "source": [
    "### Simple Linear Regression \n",
    "\n",
    "Given the surprising nature of my analysis. I attempt to take it one step further and quantify the relationship using linear regression and see if I can make some causal inferences. But before that I have to check some assumptions for normality."
   ]
  },
  {
   "cell_type": "code",
   "execution_count": 14,
   "metadata": {
    "collapsed": false
   },
   "outputs": [
    {
     "data": {
      "image/png": "[encoded data removed]",
      "text/plain": [
       "<matplotlib.figure.Figure at 0x7f022f8f0710>"
      ]
     },
     "metadata": {},
     "output_type": "display_data"
    }
   ],
   "source": [
    "#statewide poverty levels\n",
    "plt.figure();\n",
    "data['statesPov'].plot(kind='hist', alpha=0.5)\n",
    "plt.show();"
   ]
  },
  {
   "cell_type": "code",
   "execution_count": 15,
   "metadata": {
    "collapsed": false
   },
   "outputs": [
    {
     "data": {
      "image/png": "[encoded data removed]",
      "text/plain": [
       "<matplotlib.figure.Figure at 0x7f02489318d0>"
      ]
     },
     "metadata": {},
     "output_type": "display_data"
    }
   ],
   "source": [
    "#county poverty levels\n",
    "plt.figure();\n",
    "data['countyPov'].plot(kind='hist', alpha=0.5)\n",
    "plt.show();"
   ]
  },
  {
   "cell_type": "code",
   "execution_count": 17,
   "metadata": {
    "collapsed": false
   },
   "outputs": [
    {
     "data": {
      "image/png": "[encoded data removed]",
      "text/plain": [
       "<matplotlib.figure.Figure at 0x7f022e7c6290>"
      ]
     },
     "metadata": {},
     "output_type": "display_data"
    }
   ],
   "source": [
    "#difference between state and county poverty levels\n",
    "plt.figure();\n",
    "data['diff'].plot(kind='hist', alpha=0.5)\n",
    "plt.show();"
   ]
  },
  {
   "cell_type": "code",
   "execution_count": 7,
   "metadata": {
    "collapsed": false
   },
   "outputs": [
    {
     "name": "stdout",
     "output_type": "stream",
     "text": [
      "                            OLS Regression Results                            \n",
      "==============================================================================\n",
      "Dep. Variable:              statesPov   R-squared:                       0.012\n",
      "Model:                            OLS   Adj. R-squared:                  0.010\n",
      "Method:                 Least Squares   F-statistic:                     6.076\n",
      "Date:                Mon, 19 Oct 2015   Prob (F-statistic):             0.0140\n",
      "Time:                        17:32:53   Log-Likelihood:                -1202.2\n",
      "No. Observations:                 508   AIC:                             2408.\n",
      "Df Residuals:                     506   BIC:                             2417.\n",
      "Df Model:                           1                                         \n",
      "Covariance Type:            nonrobust                                         \n",
      "==============================================================================\n",
      "                 coef    std err          t      P>|t|      [95.0% Conf. Int.]\n",
      "------------------------------------------------------------------------------\n",
      "Intercept     17.4748      0.139    125.613      0.000        17.201    17.748\n",
      "waffles        0.0522      0.021      2.465      0.014         0.011     0.094\n",
      "==============================================================================\n",
      "Omnibus:                       30.105   Durbin-Watson:                   2.001\n",
      "Prob(Omnibus):                  0.000   Jarque-Bera (JB):               55.278\n",
      "Skew:                          -0.383   Prob(JB):                     9.92e-13\n",
      "Kurtosis:                       4.423   Cond. No.                         8.03\n",
      "==============================================================================\n",
      "\n",
      "Warnings:\n",
      "[1] Standard Errors assume that the covariance matrix of the errors is correctly specified.\n"
     ]
    }
   ],
   "source": [
    "#relationship of waffle houses vs. State poverty levels\n",
    "mod = sm.ols(formula='statesPov ~ waffles', data=data)\n",
    "res = mod.fit()\n",
    "print res.summary()"
   ]
  },
  {
   "cell_type": "code",
   "execution_count": 16,
   "metadata": {
    "collapsed": false
   },
   "outputs": [
    {
     "name": "stdout",
     "output_type": "stream",
     "text": [
      "                            OLS Regression Results                            \n",
      "==============================================================================\n",
      "Dep. Variable:              countyPov   R-squared:                       0.001\n",
      "Model:                            OLS   Adj. R-squared:                 -0.001\n",
      "Method:                 Least Squares   F-statistic:                    0.3008\n",
      "Date:                Mon, 19 Oct 2015   Prob (F-statistic):              0.584\n",
      "Time:                        17:38:20   Log-Likelihood:                -1643.5\n",
      "No. Observations:                 508   AIC:                             3291.\n",
      "Df Residuals:                     506   BIC:                             3299.\n",
      "Df Model:                           1                                         \n",
      "Covariance Type:            nonrobust                                         \n",
      "==============================================================================\n",
      "                 coef    std err          t      P>|t|      [95.0% Conf. Int.]\n",
      "------------------------------------------------------------------------------\n",
      "Intercept     17.6451      0.332     53.216      0.000        16.994    18.297\n",
      "waffles       -0.0277      0.050     -0.548      0.584        -0.127     0.071\n",
      "==============================================================================\n",
      "Omnibus:                       18.638   Durbin-Watson:                   2.157\n",
      "Prob(Omnibus):                  0.000   Jarque-Bera (JB):               20.487\n",
      "Skew:                           0.420   Prob(JB):                     3.56e-05\n",
      "Kurtosis:                       3.511   Cond. No.                         8.03\n",
      "==============================================================================\n",
      "\n",
      "Warnings:\n",
      "[1] Standard Errors assume that the covariance matrix of the errors is correctly specified.\n"
     ]
    }
   ],
   "source": [
    "#regression of county level poverty rates\n",
    "mod = sm.ols(formula='countyPov ~ waffles', data=data)\n",
    "res = mod.fit()\n",
    "print res.summary()"
   ]
  },
  {
   "cell_type": "code",
   "execution_count": 19,
   "metadata": {
    "collapsed": false
   },
   "outputs": [
    {
     "name": "stdout",
     "output_type": "stream",
     "text": [
      "                            OLS Regression Results                            \n",
      "==============================================================================\n",
      "Dep. Variable:                   diff   R-squared:                       0.006\n",
      "Model:                            OLS   Adj. R-squared:                  0.004\n",
      "Method:                 Least Squares   F-statistic:                     2.947\n",
      "Date:                Mon, 19 Oct 2015   Prob (F-statistic):             0.0867\n",
      "Time:                        17:39:29   Log-Likelihood:                -1602.2\n",
      "No. Observations:                 508   AIC:                             3208.\n",
      "Df Residuals:                     506   BIC:                             3217.\n",
      "Df Model:                           1                                         \n",
      "Covariance Type:            nonrobust                                         \n",
      "==============================================================================\n",
      "                 coef    std err          t      P>|t|      [95.0% Conf. Int.]\n",
      "------------------------------------------------------------------------------\n",
      "Intercept      0.1703      0.306      0.557      0.578        -0.430     0.771\n",
      "waffles       -0.0799      0.047     -1.717      0.087        -0.171     0.012\n",
      "==============================================================================\n",
      "Omnibus:                       15.381   Durbin-Watson:                   2.134\n",
      "Prob(Omnibus):                  0.000   Jarque-Bera (JB):               16.920\n",
      "Skew:                           0.364   Prob(JB):                     0.000212\n",
      "Kurtosis:                       3.518   Cond. No.                         8.03\n",
      "==============================================================================\n",
      "\n",
      "Warnings:\n",
      "[1] Standard Errors assume that the covariance matrix of the errors is correctly specified.\n"
     ]
    }
   ],
   "source": [
    "#regression of differences\n",
    "mod = sm.ols(formula='diff ~ waffles', data=data)\n",
    "res = mod.fit()\n",
    "print res.summary()\n"
   ]
  },
  {
   "cell_type": "markdown",
   "metadata": {},
   "source": [
    "In all three instances, we don't have any evidence to reject the null hypothesis that there is a causal link between Waffle Houses and poverty rates.\n",
    "\n",
    "If I have more time on my hands, I would have further examine the underlying causes of the relationship. It is reasonable to believe that race plays a much bigger role in determining poverty levels than Waffle Houses or even in the number of Waffle Houses (Waffle House was started in Atlanta, after all)."
   ]
  }
 ],
 "metadata": {
  "kernelspec": {
   "display_name": "Python 2",
   "language": "python",
   "name": "python2"
  },
  "language_info": {
   "codemirror_mode": {
    "name": "ipython",
    "version": 2
   },
   "file_extension": ".py",
   "mimetype": "text/x-python",
   "name": "python",
   "nbconvert_exporter": "python",
   "pygments_lexer": "ipython2",
   "version": "2.7.9"
  }
 },
 "nbformat": 4,
 "nbformat_minor": 0
}

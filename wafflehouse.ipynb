{
 "cells": [
  {
   "cell_type": "code",
   "execution_count": 314,
   "metadata": {
    "collapsed": false
   },
   "outputs": [],
   "source": [
    "from BeautifulSoup import BeautifulSoup\n",
    "import urllib2, sys\n",
    "import re\n",
    "import itertools\n",
    "import pandas as pd"
   ]
  },
  {
   "cell_type": "code",
   "execution_count": 317,
   "metadata": {
    "collapsed": false
   },
   "outputs": [],
   "source": [
    "#code to request website info\n",
    "url  = \"http://www.menuism.com/restaurant-locations/waffle-house-78955/us/al\"\n",
    "hdr = {'User-Agent': 'Mozilla/5.0 (X11; Linux x86_64) AppleWebKit/537.11 (KHTML, like Gecko) Chrome/23.0.1271.64 Safari/537.11',\n",
    "       'Accept': 'text/html,application/xhtml+xml,application/xml;q=0.9,*/*;q=0.8',\n",
    "       'Accept-Charset': 'ISO-8859-1,utf-8;q=0.7,*;q=0.3',\n",
    "       'Accept-Encoding': 'none',\n",
    "       'Accept-Language': 'en-US,en;q=0.8',\n",
    "       'Connection': 'keep-alive'}\n",
    "\n",
    "req = urllib2.Request(url, headers=hdr)\n",
    "\n",
    "try:\n",
    "    page = urllib2.urlopen(req)\n",
    "except urllib2.HTTPError, e:\n",
    "    print e.fp.read()\n",
    "\n",
    "content = page.read()\n",
    "soup = BeautifulSoup(content)"
   ]
  },
  {
   "cell_type": "code",
   "execution_count": 316,
   "metadata": {
    "collapsed": false
   },
   "outputs": [
    {
     "name": "stdout",
     "output_type": "stream",
     "text": [
      "[]\n",
      "[]\n",
      "[]\n",
      "[]\n",
      "[]\n",
      "[]\n",
      "[]\n",
      "[]\n",
      "[]\n",
      "[]\n",
      "[]\n",
      "[]\n",
      "[]\n",
      "[]\n",
      "[]\n",
      "[]\n",
      "[]\n",
      "[]\n",
      "[]\n",
      "[]\n",
      "[]\n",
      "[]\n",
      "[]\n",
      "[]\n",
      "[]\n",
      "[]\n",
      "[]\n",
      "[]\n"
     ]
    }
   ],
   "source": [
    "#code to grab all the addresses on the page\n",
    "rawhtml = soup.findAll(\"ul\", {\"class\":\"\"})\n",
    "\n",
    "#loop to create a list of addresses\n",
    "itemList = []\n",
    "for item in rawhtml:\n",
    "    itemList.append(''.join(item.findAll(text=True)).split(\"\\n\\n\\n\"))\n",
    "    print itemList\n",
    "\n",
    "#flattening the list and removing white space\n",
    "chain = itertools.chain(*itemList)\n",
    "chainedList = (list(chain))\n",
    "finalList = map(lambda x: x.strip(), chainedList)\n",
    "\n",
    "#creating dataframe from list\n",
    "data = pd.DataFrame()"
   ]
  },
  {
   "cell_type": "code",
   "execution_count": 330,
   "metadata": {
    "collapsed": false
   },
   "outputs": [
    {
     "name": "stdout",
     "output_type": "stream",
     "text": [
      "                                                     0\n",
      "0         Waffle House in 36201 at 1201 S Quintard Ave\n",
      "1           Waffle House in 36201 at 1530 Quintard Ave\n",
      "2           Waffle House in 35954 at 802 Cleveland Ave\n",
      "3     Waffle House in 35954 at 961 Gilbert Ferry Rd Se\n",
      "4             Waffle House in 36830 at 110 W Glenn Ave\n",
      "5          Waffle House in 36830 at 2346 Bent Creek Rd\n",
      "6             Waffle House in 36830 at 1738 Opelika Rd\n",
      "7           Waffle House in 36832 at 2167 S College St\n",
      "8          Waffle House in 35022 at 3998 Methodist Cir\n",
      "9             Waffle House in 35022 at 5010 Academy Ln\n",
      "10              Waffle House in 35205 at 800 11th St S\n",
      "11             Waffle House in 35206 at 9227 Parkway E\n",
      "12              Waffle House in 35209 at 185 Oxmoor Rd\n",
      "13   Waffle House in 35210 at 1833 Crestwood Boulevard\n",
      "14        Waffle House in 35210 at 1833 Crestwood Blvd\n",
      "15         Waffle House in 35216 at 3023 Columbiana Rd\n",
      "16        Waffle House in 35216 at 1535 Montgomery Hwy\n",
      "17    Waffle House in 35217 at 1324 Pinson Valley Pkwy\n",
      "18                Waffle House in 35228 at 800 11th St\n",
      "19            Waffle House in 35228 at 800 11th Street\n",
      "20           Waffle House in 35235 at 1440 Gadsden Hwy\n",
      "21               Waffle House in 35242 at 5419 Hwy 280\n",
      "22   Waffle House in 35244 at 1985 Old Montgomery H...\n",
      "23      Waffle House in 35244 at 1985 Montgomery Hwy S\n",
      "24            Waffle House in 35055 at County Road 437\n",
      "25          Waffle House in 35055 at 1900 Commerce Ave\n",
      "26            Waffle House in 36526 at 29100 Us Hwy 98\n",
      "27    Waffle House in 36526-9588 at 6781 US Highway 90\n",
      "28            Waffle House in 35601 at 2202 6th Ave Se\n",
      "29             Waffle House in 35601 at 710 6th Ave NE\n",
      "..                                                 ...\n",
      "72              Waffle House in 36116 at 4117 Troy Hwy\n",
      "73     Waffle House in 36117 at 1157 Eastern Boulevard\n",
      "74      Waffle House in 36117 at 9225 Boyd-cooper Pkwy\n",
      "75          Waffle House in 36117 at 1185 Eastern Blvd\n",
      "76              Waffle House in 36801 at Interstate Dr\n",
      "77           Waffle House in 36801 at 907 Fox Run Pkwy\n",
      "78   Waffle House in 36203 at 545 South Quintard Av...\n",
      "79         Waffle House in 36203 at 65 Jimmy Hinton Dr\n",
      "80            Waffle House in 36203 at 545 Quintard Dr\n",
      "81       Waffle House in 36360 at 970 S Us Highway 231\n",
      "82                  Waffle House in 36360 at Hwy 231 S\n",
      "83           Waffle House in 35124 at 2965 Pelham Pkwy\n",
      "84   Waffle House in 35124 at 1020 Oak Mountain Par...\n",
      "85               Waffle House in 36867 at 1141 280 Byp\n",
      "86   Waffle House in 36867-2632 at 3707 Summerville Rd\n",
      "87   Waffle House in 36870-6526 at 3898 Us Highway ...\n",
      "88         Waffle House in 36066 at 2597 Cobbs Ford Rd\n",
      "89       Waffle House in 36066 at 791 Business Park Dr\n",
      "90              Waffle House in 36067 at 824 E Main St\n",
      "91        Waffle House in 36571 at 1204 Industrial Pky\n",
      "92        Waffle House in 36571 at 811 Saraland Blvd S\n",
      "93            Waffle House in 36582 at 5579 Highway 90\n",
      "94     Waffle House in 36582 at 7031 Theodore Dawes Rd\n",
      "95             Waffle House in 36081 at 1208 Hwy 231 S\n",
      "96              Waffle House in 36081 at 103 Hwy 231 N\n",
      "97      Waffle House in 35405 at 3421 Mcfarland Blvd E\n",
      "98       Waffle House in 35405 at 5037 Oscar Baxter Dr\n",
      "99        Waffle House in 35405 at 5001 Skyland Blvd E\n",
      "100             Waffle House in 36854 at 2800 20th Ave\n",
      "101          Waffle House in 36854 at 580 Fob James Dr\n",
      "\n",
      "[102 rows x 1 columns]\n"
     ]
    }
   ],
   "source": [
    "chain = itertools.chain(*itemList)\n",
    "chainedList = (list(chain))\n",
    "finalList = map(lambda x: x.strip(), chainedList)\n",
    "\n",
    "dataframe = pd.DataFrame(finalList)\n",
    "print dataframe"
   ]
  },
  {
   "cell_type": "raw",
   "metadata": {},
   "source": []
  }
 ],
 "metadata": {
  "kernelspec": {
   "display_name": "Python 2",
   "language": "python",
   "name": "python2"
  },
  "language_info": {
   "codemirror_mode": {
    "name": "ipython",
    "version": 2
   },
   "file_extension": ".py",
   "mimetype": "text/x-python",
   "name": "python",
   "nbconvert_exporter": "python",
   "pygments_lexer": "ipython2",
   "version": "2.7.9"
  }
 },
 "nbformat": 4,
 "nbformat_minor": 0
}
